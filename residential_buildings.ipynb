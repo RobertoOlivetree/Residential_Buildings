{
 "cells": [
  {
   "cell_type": "code",
   "execution_count": null,
   "id": "e103b7da-ecd6-4426-a641-6e526b9f3753",
   "metadata": {},
   "outputs": [],
   "source": [
    "#Python libraries"
   ]
  },
  {
   "cell_type": "code",
   "execution_count": null,
   "id": "ac419744-fc94-4687-b4df-29d44400f7ba",
   "metadata": {},
   "outputs": [],
   "source": [
    "import pandas as pd\n",
    "import geopandas as gpd\n",
    "import folium\n",
    "from shapely import wkt\n",
    "from shapely.geometry import shape"
   ]
  },
  {
   "cell_type": "code",
   "execution_count": null,
   "id": "97ae3b16-9496-4734-87a9-ca9bdd7f0c9b",
   "metadata": {},
   "outputs": [],
   "source": [
    "#This code loads building geometries from a CSV file in WKT format, converts them to Shapely geometries, and displays them on an interactive Folium map with tooltips showing the building IDs"
   ]
  },
  {
   "cell_type": "code",
   "execution_count": null,
   "id": "80dba4ee-2520-455d-b0ec-25a70325ad95",
   "metadata": {},
   "outputs": [],
   "source": [
    "# Load the CSV file containing building geometries (WKT format)\n",
    "file_path = 'your_file.csv'  # Replace with the path to your file\n",
    "data = pd.read_csv(file_path)\n",
    "\n",
    "# Convert the WKT geometry column to Shapely geometry objects\n",
    "data['geometry'] = data['geometry'].apply(wkt.loads)  # If the polygons are in WKT format\n",
    "\n",
    "# Convert to a GeoDataFrame\n",
    "gdf = gpd.GeoDataFrame(data, geometry='geometry')\n",
    "\n",
    "# Set the Coordinate Reference System (CRS) to WGS 84 (latitude/longitude)\n",
    "gdf.set_crs(epsg=4326, inplace=True)\n",
    "\n",
    "# Create a Folium map centered on the first polygon (if available)\n",
    "map_center = [gdf.geometry.centroid.y.mean(), gdf.geometry.centroid.x.mean()]\n",
    "m = folium.Map(location=map_center, zoom_start=14)\n",
    "\n",
    "# Add building polygons to the map\n",
    "for _, row in gdf.iterrows():\n",
    "    # Use 'osm_id' as the unique identifier for each building in the tooltip\n",
    "    folium.GeoJson(\n",
    "        row['geometry'].__geo_interface__,  # Convert Shapely geometry to GeoJSON\n",
    "        tooltip=f\"Building ID: {row['osm_id']}\"  # Tooltip with osm_id\n",
    "    ).add_to(m)\n",
    "\n",
    "# Display the map in the Jupyter Notebook\n",
    "m"
   ]
  }
 ],
 "metadata": {
  "kernelspec": {
   "display_name": "Python 3 (ipykernel)",
   "language": "python",
   "name": "python3"
  },
  "language_info": {
   "codemirror_mode": {
    "name": "ipython",
    "version": 3
   },
   "file_extension": ".py",
   "mimetype": "text/x-python",
   "name": "python",
   "nbconvert_exporter": "python",
   "pygments_lexer": "ipython3",
   "version": "3.12.2"
  }
 },
 "nbformat": 4,
 "nbformat_minor": 5
}
